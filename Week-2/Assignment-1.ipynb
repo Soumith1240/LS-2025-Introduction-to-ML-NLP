{
 "cells": [
  {
   "cell_type": "code",
   "execution_count": 5,
   "id": "f3e09b03",
   "metadata": {},
   "outputs": [],
   "source": [
    "corpus = [\n",
    "    'the sun is a star',\n",
    "    'the moon is a satellite',\n",
    "    'the sun and moon are celestial bodies'\n",
    "]"
   ]
  },
  {
   "cell_type": "code",
   "execution_count": 6,
   "id": "4febe151",
   "metadata": {},
   "outputs": [
    {
     "name": "stdout",
     "output_type": "stream",
     "text": [
      "   the       sun        is         a      star      moon  satellite       and  \\\n",
      "0  0.0  0.081093  0.081093  0.081093  0.219722  0.000000   0.000000  0.000000   \n",
      "1  0.0  0.000000  0.081093  0.081093  0.000000  0.081093   0.219722  0.000000   \n",
      "2  0.0  0.057924  0.000000  0.000000  0.000000  0.057924   0.000000  0.156945   \n",
      "\n",
      "        are  celestial    bodies  \n",
      "0  0.000000   0.000000  0.000000  \n",
      "1  0.000000   0.000000  0.000000  \n",
      "2  0.156945   0.156945  0.156945  \n"
     ]
    }
   ],
   "source": [
    "import math\n",
    "from collections import defaultdict\n",
    "import pandas as pd\n",
    "\n",
    "def tokenize(doc):\n",
    "    return doc.lower().split()\n",
    "\n",
    "def tf(corpus_tokenized):\n",
    "    tf = []\n",
    "    for tokens in corpus_tokenized:\n",
    "        total_terms = len(tokens)\n",
    "        counts = defaultdict(int)\n",
    "        for token in tokens:\n",
    "            counts[token] += 1\n",
    "        tf.append({word: count / total_terms\n",
    "                   for word, count in counts.items()})\n",
    "    return tf\n",
    "\n",
    "def df(corpus_tokenized):\n",
    "    df = defaultdict(int)\n",
    "    for tokens in corpus_tokenized:\n",
    "        unique_words = set(tokens)\n",
    "        for word in unique_words:\n",
    "            df[word] += 1\n",
    "    return df\n",
    "\n",
    "def idf(df, N):\n",
    "    idf = {}\n",
    "    for word, freq in df.items():\n",
    "        idf[word] = math.log(N / freq)\n",
    "    return idf\n",
    "\n",
    "def tfidf(tf, idf):\n",
    "    tfidf = []\n",
    "    for doc_tf in tf:\n",
    "        doc_tfidf = {word: doc_tf[word] * idf[word] for word in doc_tf}\n",
    "        tfidf.append(doc_tfidf)\n",
    "    return tfidf\n",
    "\n",
    "corpus_tokenized = [tokenize(doc) for doc in corpus]\n",
    "tf = tf(corpus_tokenized)\n",
    "df = df(corpus_tokenized)\n",
    "idf = idf(df, len(corpus))\n",
    "tfidf_manual = tfidf(tf, idf)\n",
    "\n",
    "tfidf_df = pd.DataFrame(tfidf_manual).fillna(0)\n",
    "print(tfidf_df)\n",
    "\n"
   ]
  },
  {
   "cell_type": "code",
   "execution_count": 12,
   "id": "54f33498",
   "metadata": {},
   "outputs": [
    {
     "name": "stdout",
     "output_type": "stream",
     "text": [
      "   and  are  bodies  celestial  is  moon  satellite  star  sun  the\n",
      "0    0    0       0          0   1     0          0     1    1    1\n",
      "1    0    0       0          0   1     1          1     0    0    1\n",
      "2    1    1       1          1   0     1          0     0    1    1\n",
      "        and       are    bodies  celestial        is      moon  satellite  \\\n",
      "0  0.000000  0.000000  0.000000   0.000000  0.480458  0.000000   0.000000   \n",
      "1  0.000000  0.000000  0.000000   0.000000  0.480458  0.480458   0.631745   \n",
      "2  0.426184  0.426184  0.426184   0.426184  0.000000  0.324124   0.000000   \n",
      "\n",
      "       star       sun       the  \n",
      "0  0.631745  0.480458  0.373119  \n",
      "1  0.000000  0.000000  0.373119  \n",
      "2  0.000000  0.324124  0.251711  \n"
     ]
    }
   ],
   "source": [
    "from sklearn.feature_extraction.text import CountVectorizer, TfidfVectorizer\n",
    "\n",
    "vectorizer = CountVectorizer()\n",
    "vectorizer.fit(corpus)\n",
    "vector = vectorizer.transform(corpus)\n",
    "cv_vocabulary = vectorizer.get_feature_names_out()\n",
    "cv_df = pd.DataFrame(vector.toarray(), columns=cv_vocabulary)\n",
    "print(cv_df)\n",
    "\n",
    "tfidf = TfidfVectorizer()\n",
    "result = tfidf.fit_transform(corpus)\n",
    "tfidf_vocabulary = tfidf.get_feature_names_out()\n",
    "tfidf_df = pd.DataFrame(result.toarray(), columns=tfidf_vocabulary)\n",
    "print(tfidf_df)"
   ]
  }
 ],
 "metadata": {
  "kernelspec": {
   "display_name": "base",
   "language": "python",
   "name": "python3"
  },
  "language_info": {
   "codemirror_mode": {
    "name": "ipython",
    "version": 3
   },
   "file_extension": ".py",
   "mimetype": "text/x-python",
   "name": "python",
   "nbconvert_exporter": "python",
   "pygments_lexer": "ipython3",
   "version": "3.12.7"
  }
 },
 "nbformat": 4,
 "nbformat_minor": 5
}
